{
 "cells": [
  {
   "cell_type": "code",
   "execution_count": 1,
   "id": "890f7ba0",
   "metadata": {},
   "outputs": [],
   "source": [
    "import pandas as pd \n",
    "import seaborn as sns \n",
    "import matplotlib.pyplot as plt \n",
    "import numpy as np \n",
    "import warnings\n",
    "warnings.filterwarnings('ignore')\n",
    "\n",
    "import mlflow\n",
    "import mlflow.sklearn\n",
    "from sklearn.linear_model import LogisticRegression\n",
    "from sklearn.model_selection import train_test_split\n",
    "from mlflow.models import infer_signature\n",
    "\n",
    "from Models.sklearn_model import SklearnModel\n",
    "from preprocessing.preprocessing import PreProcessing\n",
    "from utils.mlflow_utils import log_confusion_matrix\n"
   ]
  },
  {
   "cell_type": "code",
   "execution_count": 2,
   "id": "e6a71a0e",
   "metadata": {},
   "outputs": [
    {
     "data": {
      "text/html": [
       "<div>\n",
       "<style scoped>\n",
       "    .dataframe tbody tr th:only-of-type {\n",
       "        vertical-align: middle;\n",
       "    }\n",
       "\n",
       "    .dataframe tbody tr th {\n",
       "        vertical-align: top;\n",
       "    }\n",
       "\n",
       "    .dataframe thead th {\n",
       "        text-align: right;\n",
       "    }\n",
       "</style>\n",
       "<table border=\"1\" class=\"dataframe\">\n",
       "  <thead>\n",
       "    <tr style=\"text-align: right;\">\n",
       "      <th></th>\n",
       "      <th>PassengerId</th>\n",
       "      <th>Survived</th>\n",
       "      <th>Pclass</th>\n",
       "      <th>Name</th>\n",
       "      <th>Sex</th>\n",
       "      <th>Age</th>\n",
       "      <th>SibSp</th>\n",
       "      <th>Parch</th>\n",
       "      <th>Ticket</th>\n",
       "      <th>Fare</th>\n",
       "      <th>Cabin</th>\n",
       "      <th>Embarked</th>\n",
       "    </tr>\n",
       "  </thead>\n",
       "  <tbody>\n",
       "    <tr>\n",
       "      <th>0</th>\n",
       "      <td>1</td>\n",
       "      <td>0</td>\n",
       "      <td>3</td>\n",
       "      <td>Braund, Mr. Owen Harris</td>\n",
       "      <td>male</td>\n",
       "      <td>22.0</td>\n",
       "      <td>1</td>\n",
       "      <td>0</td>\n",
       "      <td>A/5 21171</td>\n",
       "      <td>7.2500</td>\n",
       "      <td>NaN</td>\n",
       "      <td>S</td>\n",
       "    </tr>\n",
       "    <tr>\n",
       "      <th>1</th>\n",
       "      <td>2</td>\n",
       "      <td>1</td>\n",
       "      <td>1</td>\n",
       "      <td>Cumings, Mrs. John Bradley (Florence Briggs Th...</td>\n",
       "      <td>female</td>\n",
       "      <td>38.0</td>\n",
       "      <td>1</td>\n",
       "      <td>0</td>\n",
       "      <td>PC 17599</td>\n",
       "      <td>71.2833</td>\n",
       "      <td>C85</td>\n",
       "      <td>C</td>\n",
       "    </tr>\n",
       "    <tr>\n",
       "      <th>2</th>\n",
       "      <td>3</td>\n",
       "      <td>1</td>\n",
       "      <td>3</td>\n",
       "      <td>Heikkinen, Miss. Laina</td>\n",
       "      <td>female</td>\n",
       "      <td>26.0</td>\n",
       "      <td>0</td>\n",
       "      <td>0</td>\n",
       "      <td>STON/O2. 3101282</td>\n",
       "      <td>7.9250</td>\n",
       "      <td>NaN</td>\n",
       "      <td>S</td>\n",
       "    </tr>\n",
       "  </tbody>\n",
       "</table>\n",
       "</div>"
      ],
      "text/plain": [
       "   PassengerId  Survived  Pclass  \\\n",
       "0            1         0       3   \n",
       "1            2         1       1   \n",
       "2            3         1       3   \n",
       "\n",
       "                                                Name     Sex   Age  SibSp  \\\n",
       "0                            Braund, Mr. Owen Harris    male  22.0      1   \n",
       "1  Cumings, Mrs. John Bradley (Florence Briggs Th...  female  38.0      1   \n",
       "2                             Heikkinen, Miss. Laina  female  26.0      0   \n",
       "\n",
       "   Parch            Ticket     Fare Cabin Embarked  \n",
       "0      0         A/5 21171   7.2500   NaN        S  \n",
       "1      0          PC 17599  71.2833   C85        C  \n",
       "2      0  STON/O2. 3101282   7.9250   NaN        S  "
      ]
     },
     "execution_count": 2,
     "metadata": {},
     "output_type": "execute_result"
    }
   ],
   "source": [
    "df = pd.read_csv(r\"C:\\Learn_AI\\Model\\Titanic_2\\DataSet\\titanic.csv\")\n",
    "df.head(3)"
   ]
  },
  {
   "cell_type": "code",
   "execution_count": 3,
   "id": "b0d23a29",
   "metadata": {},
   "outputs": [
    {
     "data": {
      "text/plain": [
       "PassengerId      0\n",
       "Survived         0\n",
       "Pclass           0\n",
       "Name             0\n",
       "Sex              0\n",
       "Age             30\n",
       "SibSp            0\n",
       "Parch            0\n",
       "Ticket           0\n",
       "Fare             0\n",
       "Cabin          125\n",
       "Embarked         1\n",
       "dtype: int64"
      ]
     },
     "execution_count": 3,
     "metadata": {},
     "output_type": "execute_result"
    }
   ],
   "source": [
    "df.isnull().sum()"
   ]
  },
  {
   "cell_type": "code",
   "execution_count": 4,
   "id": "70fb6a64",
   "metadata": {},
   "outputs": [],
   "source": [
    "df = df[['Survived', 'Pclass', 'Sex', 'Age', 'SibSp',\n",
    "       'Parch', 'Fare', 'Cabin', 'Embarked']]"
   ]
  },
  {
   "cell_type": "code",
   "execution_count": 5,
   "id": "b9d72d11",
   "metadata": {},
   "outputs": [],
   "source": [
    "df['Age'].fillna(df['Age'].median() , inplace = True)\n",
    "df['Embarked'].fillna(df['Embarked'].mode()[0] , inplace =True)"
   ]
  },
  {
   "cell_type": "code",
   "execution_count": 6,
   "id": "d4898e59",
   "metadata": {},
   "outputs": [],
   "source": [
    "df['Family_total'] = df['SibSp'] + df['Parch'] + 1\n",
    "df.drop(['SibSp' , 'Parch' , 'Cabin'] , axis = 1 , inplace = True)"
   ]
  },
  {
   "cell_type": "code",
   "execution_count": 7,
   "id": "0d0a1899",
   "metadata": {},
   "outputs": [
    {
     "data": {
      "text/html": [
       "<div>\n",
       "<style scoped>\n",
       "    .dataframe tbody tr th:only-of-type {\n",
       "        vertical-align: middle;\n",
       "    }\n",
       "\n",
       "    .dataframe tbody tr th {\n",
       "        vertical-align: top;\n",
       "    }\n",
       "\n",
       "    .dataframe thead th {\n",
       "        text-align: right;\n",
       "    }\n",
       "</style>\n",
       "<table border=\"1\" class=\"dataframe\">\n",
       "  <thead>\n",
       "    <tr style=\"text-align: right;\">\n",
       "      <th></th>\n",
       "      <th>Survived</th>\n",
       "      <th>Pclass</th>\n",
       "      <th>Sex</th>\n",
       "      <th>Age</th>\n",
       "      <th>Fare</th>\n",
       "      <th>Embarked</th>\n",
       "      <th>Family_total</th>\n",
       "    </tr>\n",
       "  </thead>\n",
       "  <tbody>\n",
       "    <tr>\n",
       "      <th>0</th>\n",
       "      <td>0</td>\n",
       "      <td>3</td>\n",
       "      <td>male</td>\n",
       "      <td>22.0</td>\n",
       "      <td>7.2500</td>\n",
       "      <td>S</td>\n",
       "      <td>2</td>\n",
       "    </tr>\n",
       "    <tr>\n",
       "      <th>1</th>\n",
       "      <td>1</td>\n",
       "      <td>1</td>\n",
       "      <td>female</td>\n",
       "      <td>38.0</td>\n",
       "      <td>71.2833</td>\n",
       "      <td>C</td>\n",
       "      <td>2</td>\n",
       "    </tr>\n",
       "    <tr>\n",
       "      <th>2</th>\n",
       "      <td>1</td>\n",
       "      <td>3</td>\n",
       "      <td>female</td>\n",
       "      <td>26.0</td>\n",
       "      <td>7.9250</td>\n",
       "      <td>S</td>\n",
       "      <td>1</td>\n",
       "    </tr>\n",
       "  </tbody>\n",
       "</table>\n",
       "</div>"
      ],
      "text/plain": [
       "   Survived  Pclass     Sex   Age     Fare Embarked  Family_total\n",
       "0         0       3    male  22.0   7.2500        S             2\n",
       "1         1       1  female  38.0  71.2833        C             2\n",
       "2         1       3  female  26.0   7.9250        S             1"
      ]
     },
     "execution_count": 7,
     "metadata": {},
     "output_type": "execute_result"
    }
   ],
   "source": [
    "df.head(3)"
   ]
  },
  {
   "cell_type": "code",
   "execution_count": 8,
   "id": "4cea254e",
   "metadata": {},
   "outputs": [
    {
     "data": {
      "text/html": [
       "<div>\n",
       "<style scoped>\n",
       "    .dataframe tbody tr th:only-of-type {\n",
       "        vertical-align: middle;\n",
       "    }\n",
       "\n",
       "    .dataframe tbody tr th {\n",
       "        vertical-align: top;\n",
       "    }\n",
       "\n",
       "    .dataframe thead th {\n",
       "        text-align: right;\n",
       "    }\n",
       "</style>\n",
       "<table border=\"1\" class=\"dataframe\">\n",
       "  <thead>\n",
       "    <tr style=\"text-align: right;\">\n",
       "      <th></th>\n",
       "      <th>Survived</th>\n",
       "      <th>Pclass</th>\n",
       "      <th>Age</th>\n",
       "      <th>Fare</th>\n",
       "      <th>Family_total</th>\n",
       "    </tr>\n",
       "  </thead>\n",
       "  <tbody>\n",
       "    <tr>\n",
       "      <th>count</th>\n",
       "      <td>156.000000</td>\n",
       "      <td>156.000000</td>\n",
       "      <td>156.000000</td>\n",
       "      <td>156.000000</td>\n",
       "      <td>156.000000</td>\n",
       "    </tr>\n",
       "    <tr>\n",
       "      <th>mean</th>\n",
       "      <td>0.346154</td>\n",
       "      <td>2.423077</td>\n",
       "      <td>27.729679</td>\n",
       "      <td>28.109587</td>\n",
       "      <td>2.012821</td>\n",
       "    </tr>\n",
       "    <tr>\n",
       "      <th>std</th>\n",
       "      <td>0.477275</td>\n",
       "      <td>0.795459</td>\n",
       "      <td>13.150938</td>\n",
       "      <td>39.401047</td>\n",
       "      <td>1.614400</td>\n",
       "    </tr>\n",
       "    <tr>\n",
       "      <th>min</th>\n",
       "      <td>0.000000</td>\n",
       "      <td>1.000000</td>\n",
       "      <td>0.830000</td>\n",
       "      <td>6.750000</td>\n",
       "      <td>1.000000</td>\n",
       "    </tr>\n",
       "    <tr>\n",
       "      <th>25%</th>\n",
       "      <td>0.000000</td>\n",
       "      <td>2.000000</td>\n",
       "      <td>21.000000</td>\n",
       "      <td>8.003150</td>\n",
       "      <td>1.000000</td>\n",
       "    </tr>\n",
       "    <tr>\n",
       "      <th>50%</th>\n",
       "      <td>0.000000</td>\n",
       "      <td>3.000000</td>\n",
       "      <td>26.000000</td>\n",
       "      <td>14.454200</td>\n",
       "      <td>1.000000</td>\n",
       "    </tr>\n",
       "    <tr>\n",
       "      <th>75%</th>\n",
       "      <td>1.000000</td>\n",
       "      <td>3.000000</td>\n",
       "      <td>33.000000</td>\n",
       "      <td>30.371850</td>\n",
       "      <td>2.000000</td>\n",
       "    </tr>\n",
       "    <tr>\n",
       "      <th>max</th>\n",
       "      <td>1.000000</td>\n",
       "      <td>3.000000</td>\n",
       "      <td>71.000000</td>\n",
       "      <td>263.000000</td>\n",
       "      <td>8.000000</td>\n",
       "    </tr>\n",
       "  </tbody>\n",
       "</table>\n",
       "</div>"
      ],
      "text/plain": [
       "         Survived      Pclass         Age        Fare  Family_total\n",
       "count  156.000000  156.000000  156.000000  156.000000    156.000000\n",
       "mean     0.346154    2.423077   27.729679   28.109587      2.012821\n",
       "std      0.477275    0.795459   13.150938   39.401047      1.614400\n",
       "min      0.000000    1.000000    0.830000    6.750000      1.000000\n",
       "25%      0.000000    2.000000   21.000000    8.003150      1.000000\n",
       "50%      0.000000    3.000000   26.000000   14.454200      1.000000\n",
       "75%      1.000000    3.000000   33.000000   30.371850      2.000000\n",
       "max      1.000000    3.000000   71.000000  263.000000      8.000000"
      ]
     },
     "execution_count": 8,
     "metadata": {},
     "output_type": "execute_result"
    }
   ],
   "source": [
    "df.describe()"
   ]
  },
  {
   "cell_type": "code",
   "execution_count": 9,
   "id": "815fe6e3",
   "metadata": {},
   "outputs": [
    {
     "data": {
      "text/plain": [
       "<Axes: xlabel='Survived', ylabel='Age'>"
      ]
     },
     "execution_count": 9,
     "metadata": {},
     "output_type": "execute_result"
    },
    {
     "data": {
      "image/png": "[encoded data removed]",
      "text/plain": [
       "<Figure size 1700x1000 with 1 Axes>"
      ]
     },
     "metadata": {},
     "output_type": "display_data"
    }
   ],
   "source": [
    "plt.figure(figsize = (17,10))\n",
    "sns.boxplot(y = df['Age'] , x = df['Survived'] , hue = df['Sex'])\n"
   ]
  },
  {
   "cell_type": "markdown",
   "id": "bda2d8bf",
   "metadata": {},
   "source": [
    "- Nữ sống sót nhiều hơn nam:\n",
    "\n",
    "- Cột Survived = 1: Hộp màu cam (nữ) cao hơn nhiều.\n",
    "\n",
    "- Nam sống sót có tuổi tập trung hẹp (~25-30), nữ sống sót tuổi trải dài hơn.\n",
    "\n",
    "- Nam giới tử vong nhiều hơn:\n",
    "\n",
    "- Cột Survived = 0: Hộp xanh (nam) lớn và nhiều outlier.\n",
    "\n",
    "- Nhiều nam tử vong ở độ tuổi 20-40.\n",
    "\n",
    "- Trẻ em và phụ nữ dễ sống sót hơn:\n",
    "\n",
    "- Nữ sống sót nhiều ở mọi độ tuổi (thể hiện bằng hộp màu cam bên Survived = 1).\n",
    "\n",
    "- Nam chỉ sống sót tập trung vào 1 nhóm nhỏ tuổi (hẹp).\n",
    "\n",
    "- Phụ nữ có tỉ lệ sống sót cao hơn nam (đúng với chính sách Titanic: \"Ladies and children first\").\n",
    "\n",
    " - Nam giới, dù ở độ tuổi nào cũng dễ tử vong hơn.\n",
    "\n",
    " - Tuổi có ảnh hưởng nhẹ đến tỉ lệ sống sót, nhưng yếu tố giới tính rõ rệt hơn."
   ]
  },
  {
   "cell_type": "code",
   "execution_count": 10,
   "id": "ff12c92e",
   "metadata": {},
   "outputs": [
    {
     "data": {
      "image/png": "[encoded data removed]",
      "text/plain": [
       "<Figure size 1800x500 with 3 Axes>"
      ]
     },
     "metadata": {},
     "output_type": "display_data"
    }
   ],
   "source": [
    "# Thiết lập bố cục cho 3 biểu đồ\n",
    "fig, axes = plt.subplots(1, 3, figsize=(18, 5))\n",
    "\n",
    "sns.countplot(x='Survived', hue='Sex', data=df, ax=axes[0])\n",
    "axes[0].set_title('Survival Count by Sex')\n",
    "\n",
    "sns.boxplot(x='Survived', y='Fare', data=df, ax=axes[1])\n",
    "axes[1].set_title('Fare Distribution by Survival')\n",
    "\n",
    "sns.scatterplot(x='Age', y='Fare', hue='Survived', size='Survived', data=df, ax=axes[2])\n",
    "axes[2].set_title('Age vs Fare by Survival')\n",
    "\n",
    "plt.tight_layout()\n",
    "plt.show()"
   ]
  },
  {
   "cell_type": "markdown",
   "id": "0916d8ea",
   "metadata": {},
   "source": [
    "- Giá vé không có sự khác biệt quá lớn giữa hai nhóm, nhưng người sống sót có xu hướng trả giá vé cao hơn một chút. Điều này có thể liên quan đến việc những người trả giá vé cao hơn thuộc lớp vé cao hơn (Pclass thấp hơn), vốn có khả năng sống sót cao hơn. Tuy nhiên, ảnh hưởng của giá vé không quá rõ ràng."
   ]
  },
  {
   "cell_type": "code",
   "execution_count": 11,
   "id": "e18df81b",
   "metadata": {},
   "outputs": [
    {
     "data": {
      "text/html": [
       "<div>\n",
       "<style scoped>\n",
       "    .dataframe tbody tr th:only-of-type {\n",
       "        vertical-align: middle;\n",
       "    }\n",
       "\n",
       "    .dataframe tbody tr th {\n",
       "        vertical-align: top;\n",
       "    }\n",
       "\n",
       "    .dataframe thead th {\n",
       "        text-align: right;\n",
       "    }\n",
       "</style>\n",
       "<table border=\"1\" class=\"dataframe\">\n",
       "  <thead>\n",
       "    <tr style=\"text-align: right;\">\n",
       "      <th></th>\n",
       "      <th>Survived</th>\n",
       "      <th>Pclass</th>\n",
       "      <th>Sex</th>\n",
       "      <th>Age</th>\n",
       "      <th>Fare</th>\n",
       "      <th>Embarked</th>\n",
       "      <th>Family_total</th>\n",
       "    </tr>\n",
       "  </thead>\n",
       "  <tbody>\n",
       "    <tr>\n",
       "      <th>0</th>\n",
       "      <td>0</td>\n",
       "      <td>3</td>\n",
       "      <td>male</td>\n",
       "      <td>22.0</td>\n",
       "      <td>7.2500</td>\n",
       "      <td>S</td>\n",
       "      <td>2</td>\n",
       "    </tr>\n",
       "    <tr>\n",
       "      <th>1</th>\n",
       "      <td>1</td>\n",
       "      <td>1</td>\n",
       "      <td>female</td>\n",
       "      <td>38.0</td>\n",
       "      <td>71.2833</td>\n",
       "      <td>C</td>\n",
       "      <td>2</td>\n",
       "    </tr>\n",
       "  </tbody>\n",
       "</table>\n",
       "</div>"
      ],
      "text/plain": [
       "   Survived  Pclass     Sex   Age     Fare Embarked  Family_total\n",
       "0         0       3    male  22.0   7.2500        S             2\n",
       "1         1       1  female  38.0  71.2833        C             2"
      ]
     },
     "execution_count": 11,
     "metadata": {},
     "output_type": "execute_result"
    }
   ],
   "source": [
    "df.head(2)"
   ]
  },
  {
   "cell_type": "code",
   "execution_count": 12,
   "id": "63da3706",
   "metadata": {},
   "outputs": [],
   "source": [
    "X = df.drop('Survived' , axis =1)\n",
    "y = df['Survived']\n",
    "X_train, X_test, y_train, y_test = train_test_split(X, y, test_size=0.2, random_state=42)"
   ]
  },
  {
   "cell_type": "code",
   "execution_count": null,
   "id": "a209b383",
   "metadata": {},
   "outputs": [
    {
     "name": "stderr",
     "output_type": "stream",
     "text": [
      "2025/05/19 09:55:28 INFO mlflow.tracking.fluent: Experiment with name 'Titanic Experiment' does not exist. Creating a new experiment.\n"
     ]
    },
    {
     "data": {
      "application/vnd.jupyter.widget-view+json": {
       "model_id": "e2d6a62e15fd49c78fe8d74db92443a6",
       "version_major": 2,
       "version_minor": 0
      },
      "text/plain": [
       "Downloading artifacts:   0%|          | 0/7 [00:00<?, ?it/s]"
      ]
     },
     "metadata": {},
     "output_type": "display_data"
    },
    {
     "name": "stderr",
     "output_type": "stream",
     "text": [
      "Successfully registered model 'Titanic-LogisticRegression'.\n",
      "2025/05/19 09:55:37 INFO mlflow.store.model_registry.abstract_store: Waiting up to 300 seconds for model version to finish creation. Model name: Titanic-LogisticRegression, version 1\n"
     ]
    },
    {
     "name": "stdout",
     "output_type": "stream",
     "text": [
      "🏃 View run Logistic Regression at: http://localhost:5000/#/experiments/139198463418536674/runs/b43aa189a67742e885efd14f640b1f37\n",
      "🧪 View experiment at: http://localhost:5000/#/experiments/139198463418536674\n"
     ]
    },
    {
     "name": "stderr",
     "output_type": "stream",
     "text": [
      "Created version '1' of model 'Titanic-LogisticRegression'.\n"
     ]
    }
   ],
   "source": [
    "from sklearn.linear_model import LogisticRegression\n",
    "standard_cols =['Age' , 'Fare']\n",
    "categorical_cols = ['Sex', 'Embarked']\n",
    "prep = PreProcessing(sds_cols=standard_cols, ohe_cols=categorical_cols)\n",
    "param_grid = {'model__C': [0.1, 1.0, 10.0]}\n",
    "model = SklearnModel(\n",
    "    model=LogisticRegression(max_iter=1000),\n",
    "    preprocessing=prep,\n",
    "    param_grid=param_grid\n",
    ")\n",
    "labels = ['Died', 'Survived']\n",
    "\n",
    "# 3. Thiết lập MLflow\n",
    "mlflow.set_tracking_uri(uri=\"http://localhost:5000\") \n",
    "mlflow.set_experiment(\"Titanic Experiment\")\n",
    "\n",
    "# 4. Huấn luyện và log\n",
    "with mlflow.start_run(run_name=\"Logistic Regression\"):\n",
    "    model.fit(X_train, y_train)\n",
    "    result = model.evaluate(X_test, y_test)\n",
    "\n",
    "    # Log params\n",
    "    if hasattr(model.pipeline, \"best_params_\"):\n",
    "        mlflow.log_params(model.pipeline.best_params_)\n",
    "    else:\n",
    "        mlflow.log_params(model.model.get_params())\n",
    "\n",
    "    # Log metrics\n",
    "    mlflow.log_metric(\"accuracy\", result[\"accuracy\"])\n",
    "    with open(\"classification_report.txt\", \"w\") as f:\n",
    "        f.write(str(result[\"classification_report\"]))\n",
    "    mlflow.log_artifact(\"classification_report.txt\")\n",
    "\n",
    "    # Log confusion matrix ảnh\n",
    "    cm_path = log_confusion_matrix(result[\"confusion_matrix\"], labels)\n",
    "    mlflow.log_artifact(cm_path)\n",
    "\n",
    "    # Log model\n",
    "    signature = infer_signature(X_train, model.pipeline.predict(X_train))\n",
    "    mlflow.sklearn.log_model(\n",
    "        sk_model=model.pipeline,\n",
    "        artifact_path=\"model\",\n",
    "        signature=signature,\n",
    "        input_example=X_train[:5],\n",
    "        registered_model_name=\"Titanic-LogisticRegression\"\n",
    "    )"
   ]
  },
  {
   "cell_type": "code",
   "execution_count": 14,
   "id": "96e26b1e",
   "metadata": {},
   "outputs": [
    {
     "name": "stdout",
     "output_type": "stream",
     "text": [
      "\n",
      "--- Training: LogisticRegression ---\n"
     ]
    },
    {
     "data": {
      "application/vnd.jupyter.widget-view+json": {
       "model_id": "c5734d898d274650b1eef3d295ba0bfd",
       "version_major": 2,
       "version_minor": 0
      },
      "text/plain": [
       "Downloading artifacts:   0%|          | 0/7 [00:00<?, ?it/s]"
      ]
     },
     "metadata": {},
     "output_type": "display_data"
    },
    {
     "name": "stderr",
     "output_type": "stream",
     "text": [
      "Registered model 'Titanic-LogisticRegression' already exists. Creating a new version of this model...\n",
      "2025/05/19 09:59:07 INFO mlflow.store.model_registry.abstract_store: Waiting up to 300 seconds for model version to finish creation. Model name: Titanic-LogisticRegression, version 2\n",
      "Created version '2' of model 'Titanic-LogisticRegression'.\n"
     ]
    },
    {
     "name": "stdout",
     "output_type": "stream",
     "text": [
      "🏃 View run LogisticRegression at: http://localhost:5000/#/experiments/139198463418536674/runs/208ea21e3a214580bb6cf5168e5bdb11\n",
      "🧪 View experiment at: http://localhost:5000/#/experiments/139198463418536674\n",
      "\n",
      "--- Training: RandomForest ---\n"
     ]
    },
    {
     "data": {
      "application/vnd.jupyter.widget-view+json": {
       "model_id": "0ceaba6a8eb24987b5d887858c6ca2f3",
       "version_major": 2,
       "version_minor": 0
      },
      "text/plain": [
       "Downloading artifacts:   0%|          | 0/7 [00:00<?, ?it/s]"
      ]
     },
     "metadata": {},
     "output_type": "display_data"
    },
    {
     "name": "stderr",
     "output_type": "stream",
     "text": [
      "Successfully registered model 'Titanic-RandomForest'.\n",
      "2025/05/19 09:59:14 INFO mlflow.store.model_registry.abstract_store: Waiting up to 300 seconds for model version to finish creation. Model name: Titanic-RandomForest, version 1\n",
      "Created version '1' of model 'Titanic-RandomForest'.\n"
     ]
    },
    {
     "name": "stdout",
     "output_type": "stream",
     "text": [
      "🏃 View run RandomForest at: http://localhost:5000/#/experiments/139198463418536674/runs/554e0818f6d247a08e0d0f7d84ba6fc9\n",
      "🧪 View experiment at: http://localhost:5000/#/experiments/139198463418536674\n",
      "\n",
      "--- Training: SVM ---\n"
     ]
    },
    {
     "data": {
      "application/vnd.jupyter.widget-view+json": {
       "model_id": "6e70dd9baf8244f9b2ce2e42b37885ba",
       "version_major": 2,
       "version_minor": 0
      },
      "text/plain": [
       "Downloading artifacts:   0%|          | 0/7 [00:00<?, ?it/s]"
      ]
     },
     "metadata": {},
     "output_type": "display_data"
    },
    {
     "name": "stderr",
     "output_type": "stream",
     "text": [
      "Successfully registered model 'Titanic-SVM'.\n",
      "2025/05/19 09:59:18 INFO mlflow.store.model_registry.abstract_store: Waiting up to 300 seconds for model version to finish creation. Model name: Titanic-SVM, version 1\n"
     ]
    },
    {
     "name": "stdout",
     "output_type": "stream",
     "text": [
      "🏃 View run SVM at: http://localhost:5000/#/experiments/139198463418536674/runs/29425553097b404aad56bf021fcfa908\n",
      "🧪 View experiment at: http://localhost:5000/#/experiments/139198463418536674\n"
     ]
    },
    {
     "name": "stderr",
     "output_type": "stream",
     "text": [
      "Created version '1' of model 'Titanic-SVM'.\n"
     ]
    }
   ],
   "source": [
    "from sklearn.linear_model import LogisticRegression\n",
    "from sklearn.ensemble import RandomForestClassifier\n",
    "from sklearn.svm import SVC\n",
    "\n",
    "# Các mô hình và grid tương ứng\n",
    "models_with_params = {\n",
    "    \"LogisticRegression\": (\n",
    "        LogisticRegression(max_iter=1000),\n",
    "        {'model__C': [0.1, 1.0, 10.0]}\n",
    "    ),\n",
    "    \"RandomForest\": (\n",
    "        RandomForestClassifier(),\n",
    "        {'model__n_estimators': [100, 200], 'model__max_depth': [5, 10]}\n",
    "    ),\n",
    "    \"SVM\": (\n",
    "        SVC(probability=True),\n",
    "        {'model__C': [0.1, 1.0], 'model__kernel': ['linear', 'rbf']}\n",
    "    )\n",
    "}\n",
    "\n",
    "# Định nghĩa các cột tiền xử lý\n",
    "standard_cols = ['Age', 'Fare']\n",
    "categorical_cols = ['Sex', 'Embarked']\n",
    "labels = ['Died', 'Survived']\n",
    "\n",
    "# MLflow config\n",
    "mlflow.set_tracking_uri(uri=\"http://localhost:5000\") \n",
    "mlflow.set_experiment(\"Titanic Experiment\")\n",
    "\n",
    "# Train từng mô hình\n",
    "for model_name, (clf, param_grid) in models_with_params.items():\n",
    "    print(f\"\\n--- Training: {model_name} ---\")\n",
    "\n",
    "    prep = PreProcessing(sds_cols=standard_cols, ohe_cols=categorical_cols)\n",
    "    model = SklearnModel(model=clf, preprocessing=prep, param_grid=param_grid)\n",
    "\n",
    "    with mlflow.start_run(run_name=model_name):\n",
    "        model.fit(X_train, y_train)\n",
    "        result = model.evaluate(X_test, y_test)\n",
    "\n",
    "        # Log parameters\n",
    "        if hasattr(model.pipeline, \"best_params_\"):\n",
    "            mlflow.log_params(model.pipeline.best_params_)\n",
    "        else:\n",
    "            mlflow.log_params(model.model.get_params())\n",
    "\n",
    "        # Log metrics\n",
    "        mlflow.log_metric(\"accuracy\", result[\"accuracy\"])\n",
    "\n",
    "        # Log classification report\n",
    "        with open(\"classification_report.txt\", \"w\") as f:\n",
    "            f.write(str(result[\"classification_report\"]))\n",
    "        mlflow.log_artifact(\"classification_report.txt\")\n",
    "\n",
    "        # Log confusion matrix\n",
    "        cm_path = log_confusion_matrix(result[\"confusion_matrix\"], labels)\n",
    "        mlflow.log_artifact(cm_path)\n",
    "\n",
    "        # Log model\n",
    "        signature = infer_signature(X_train, model.pipeline.predict(X_train))\n",
    "        mlflow.sklearn.log_model(\n",
    "            sk_model=model.pipeline,\n",
    "            artifact_path=\"model\",\n",
    "            signature=signature,\n",
    "            input_example=X_train[:5],\n",
    "            registered_model_name=f\"Titanic-{model_name}\"\n",
    "        )\n"
   ]
  }
 ],
 "metadata": {
  "kernelspec": {
   "display_name": "base",
   "language": "python",
   "name": "python3"
  },
  "language_info": {
   "codemirror_mode": {
    "name": "ipython",
    "version": 3
   },
   "file_extension": ".py",
   "mimetype": "text/x-python",
   "name": "python",
   "nbconvert_exporter": "python",
   "pygments_lexer": "ipython3",
   "version": "3.11.5"
  }
 },
 "nbformat": 4,
 "nbformat_minor": 5
}
